{
    "cells": [
        {
            "attachments": {},
            "cell_type": "markdown",
            "metadata": {
                "azdata_cell_guid": "a3e290d8-eba7-4575-a3e1-4af0c5d9f8fe"
            },
            "source": [
                "**Backup Power BI Dataset**\n",
                "\n",
                "The following PowerShell script will **Backup** Power BI Dataset using the Invoke-ASCmd. \n",
                "\n",
                "\\*\\*\\*\\*Please supply values for all variables contained within the Parameter Section.\\*\\*\\*\\*"
            ]
        },
        {
            "cell_type": "code",
            "execution_count": null,
            "metadata": {
                "azdata_cell_guid": "0b31949e-17d1-4721-ae3e-1426f6a093c2",
                "language": "powershell",
                "tags": []
            },
            "outputs": [],
            "source": [
                "#PARAMETERS NOT POPULATED\n",
                "param\n",
                "(\n",
                "    [Parameter()]\n",
                "    [String]$PowerBI = \"powerbi://api.powerbi.com/v1.0/myorg/\",\n",
                "\n",
                "    [Parameter()]\n",
                "    [String]$Workspace = \"Videos\",\n",
                "\n",
                "    [Parameter()]\n",
                "    [String]$DatabaseName = \"TheDataModel\",\n",
                "\n",
                "    [Parameter()]\n",
                "    [String]$AppId = \"\",\n",
                "\n",
                "    [Parameter()]\n",
                "    [String]$AppSecret = \"\",\n",
                "\n",
                "    [Parameter()]\n",
                "    [String]$TenantId = \"\"\n",
                ")\n",
                "\n",
                "$XMLAEndPoint = $PowerBI+$Workspace\n",
                "\n",
                "$PWord = ConvertTo-SecureString -String $AppSecret -AsPlainText -Force\n",
                "\n",
                "$Credential = New-Object -TypeName \"System.Management.Automation.PSCredential\" -ArgumentList $AppId, $PWord\n",
                "\n",
                "$datestring = (Get-Date).ToString(\"s\").Replace(\":\",\"-\")\n",
                "\n",
                "$Backupfilename = $DatabaseName+\"_\"+$datestring+\".abf\"\n",
                "\n",
                "$Query = \n",
                "@\"\n",
                "{\n",
                "  \"backup\": {\n",
                "    \"database\": \"$DatabaseName\",\n",
                "    \"file\": \"$Backupfilename\",\n",
                "    \"allowOverwrite\": true,\n",
                "    \"applyCompression\": true\n",
                "  }\n",
                "}\n",
                "\"@\n",
                "\n",
                "\n",
                "Invoke-ASCmd  -Server $XMLAEndpoint -Query $Query  -ApplicationId $AppId -TenantId $TenantId -Credential $Credential -ServicePrincipal\n"
            ]
        },
        {
            "attachments": {},
            "cell_type": "markdown",
            "metadata": {
                "azdata_cell_guid": "3afd623b-23b6-4fd9-910a-aab285b133d3",
                "language": "powershell"
            },
            "source": [
                "**Retore Power BI Dataset**\n",
                "\n",
                "The following PowerShell script will **Restore** Power BI Dataset using the Invoke-ASCmd. \n",
                "\n",
                "\\*\\*\\*\\*Please supply values for all variables contained within the Parameter Section.\\*\\*\\*\\*"
            ]
        },
        {
            "cell_type": "code",
            "execution_count": null,
            "metadata": {
                "azdata_cell_guid": "5ee55235-34a0-4e18-803f-834a3b56ec04",
                "language": "powershell"
            },
            "outputs": [],
            "source": [
                "#PARAMETERS NOT POPULATED\n",
                "param\n",
                "(\n",
                "    [Parameter()]\n",
                "    [String]$PowerBI = \"powerbi://api.powerbi.com/v1.0/myorg/\",\n",
                "\n",
                "    [Parameter()]\n",
                "    [String]$Workspace = \"Videos\",\n",
                "\n",
                "    [Parameter()]\n",
                "    [String]$DatabaseName = \"TheDataModel\",\n",
                "\n",
                "    [Parameter()]\n",
                "    $Backupfilename = \"TheDataModel_2022-03-30T20-25-02.abf\",\n",
                "\n",
                "    [Parameter()]\n",
                "    [String]$AppId = \"\",\n",
                "\n",
                "    [Parameter()]\n",
                "    [String]$AppSecret = \"\",\n",
                "\n",
                "    [Parameter()]\n",
                "    [String]$TenantId = \"\"\n",
                ")\n",
                "\n",
                "$XMLAEndPoint = $PowerBI+$Workspace\n",
                "\n",
                "$PWord = ConvertTo-SecureString -String $AppSecret -AsPlainText -Force\n",
                "\n",
                "$Credential = New-Object -TypeName \"System.Management.Automation.PSCredential\" -ArgumentList $AppId, $PWord\n",
                "\n",
                "$Query = \n",
                "@\"\n",
                "{\n",
                "    \"restore\": {\n",
                "    \"database\": \"$DatabaseName\",\n",
                "    \"file\": \"$Backupfilename\",\n",
                "    \"allowOverwrite\": true,\n",
                "    \"readWriteMode\": \"readWrite\",\n",
                "    \"security\": \"copyAll\"\n",
                "    }\n",
                "}\n",
                "\"@\n",
                "\n",
                "\n",
                "Invoke-ASCmd  -Server $XMLAEndpoint -Query $Query  -ApplicationId $AppId -TenantId $TenantId -Credential $Credential -ServicePrincipal\n"
            ]
        }
    ],
    "metadata": {
        "kernelspec": {
            "display_name": "PowerShell",
            "language": "powershell",
            "name": "powershell"
        },
        "language_info": {
            "codemirror_mode": "shell",
            "file_extension": ".ps1",
            "mimetype": "text/x-sh",
            "name": "powershell"
        }
    },
    "nbformat": 4,
    "nbformat_minor": 2
}
